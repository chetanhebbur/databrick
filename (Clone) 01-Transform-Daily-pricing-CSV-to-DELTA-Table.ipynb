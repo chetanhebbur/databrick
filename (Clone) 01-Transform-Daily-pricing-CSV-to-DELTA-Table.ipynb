{
 "cells": [
  {
   "cell_type": "code",
   "execution_count": 0,
   "metadata": {
    "application/vnd.databricks.v1+cell": {
     "cellMetadata": {
      "byteLimit": 2048000,
      "rowLimit": 10000
     },
     "inputWidgets": {},
     "nuid": "b6101984-3207-4439-9bf3-74caf2ad6695",
     "showTitle": false,
     "tableResultSettingsMap": {},
     "title": ""
    }
   },
   "outputs": [],
   "source": [
    "use catalog pricing_analytics;\n",
    "insert into Silver.daily_pricing_silver\n",
    "select\n",
    "cast(ARRIVAL_IN_TONNES as decimal(18,2)),\n",
    "to_date(DATE_OF_PRICING,'dd/MM/yyyy'),\n",
    "MARKET_NAME,\n",
    "cast(MAXIMUM_PRICE as decimal(36,2)),\n",
    "cast(MINIMUM_PRICE as decimal(36,2)),\n",
    "cast(MODAL_PRICE as decimal(36,2)),\n",
    "ORIGIN,\n",
    "PRODUCT_NAME,\n",
    "PRODUCTGROUP_NAME,\n",
    "cast(ROW_ID as bigint),\n",
    "source_file_load_date,\n",
    "STATE_NAME,\n",
    "VARIETY,\n",
    "current_timestamp(),\n",
    "current_timestamp()\n",
    "from pricing_analytics.bronze.daily_pricing \n",
    "where source_file_load_date >( select nvl(max(processed_table_datetime),'1900-01-01') from pricing_analytics.processedrunlog.deltalakehouse_pricing_run where process_name = 'daily_pricing_silver' and process_status = 'Completed')"
   ]
  },
  {
   "cell_type": "code",
   "execution_count": 0,
   "metadata": {
    "application/vnd.databricks.v1+cell": {
     "cellMetadata": {
      "byteLimit": 2048000,
      "rowLimit": 10000
     },
     "inputWidgets": {},
     "nuid": "50fa4db6-5d73-43a0-808a-20d063fe97df",
     "showTitle": false,
     "tableResultSettingsMap": {},
     "title": ""
    }
   },
   "outputs": [],
   "source": [
    "insert into pricing_analytics.processedrunlog.deltalakehouse_pricing_run(process_name,processed_table_datetime,process_status) select 'daily_pricing_silver',max(source_file_load_date),'Completed' from pricing_analytics.silver.daily_pricing_silver"
   ]
  },
  {
   "cell_type": "code",
   "execution_count": 0,
   "metadata": {
    "application/vnd.databricks.v1+cell": {
     "cellMetadata": {
      "byteLimit": 2048000,
      "rowLimit": 10000
     },
     "inputWidgets": {},
     "nuid": "005d3d9c-c08b-4429-b2f3-35ecc0e63a86",
     "showTitle": false,
     "tableResultSettingsMap": {},
     "title": ""
    }
   },
   "outputs": [],
   "source": [
    "Print(\"data\")"
   ]
  }
 ],
 "metadata": {
  "application/vnd.databricks.v1+notebook": {
   "computePreferences": null,
   "dashboards": [],
   "environmentMetadata": {
    "base_environment": "",
    "environment_version": "2"
   },
   "inputWidgetPreferences": null,
   "language": "sql",
   "notebookMetadata": {
    "pythonIndentUnit": 4
   },
   "notebookName": "(Clone) 01-Transform-Daily-pricing-CSV-to-DELTA-Table",
   "widgets": {}
  },
  "language_info": {
   "name": "sql"
  }
 },
 "nbformat": 4,
 "nbformat_minor": 0
}
